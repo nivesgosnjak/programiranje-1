{
  "cells": [
    {
      "cell_type": "markdown",
      "metadata": {},
      "source": [
        "# Uvod v funkcijsko programiranje"
      ]
    },
    {
      "cell_type": "markdown",
      "metadata": {},
      "source": [
        "## Osnove OCamla"
      ]
    },
    {
      "cell_type": "markdown",
      "metadata": {},
      "source": [
        "### Aritmetični izrazi"
      ]
    },
    {
      "cell_type": "code",
      "execution_count": 12,
      "metadata": {
        "vscode": {
          "languageId": "ocaml"
        }
      },
      "outputs": [
        {
          "data": {
            "text/plain": [
              "- : int = 42\n"
            ]
          },
          "execution_count": 12,
          "metadata": {},
          "output_type": "execute_result"
        }
      ],
      "source": [
        "min 8 7          *   6"
      ]
    },
    {
      "cell_type": "markdown",
      "metadata": {},
      "source": [
        "### Definicije"
      ]
    },
    {
      "cell_type": "code",
      "execution_count": 13,
      "metadata": {
        "vscode": {
          "languageId": "ocaml"
        }
      },
      "outputs": [
        {
          "ename": "error",
          "evalue": "compile_error",
          "output_type": "error",
          "traceback": [
            "File \"[13]\", line 1, characters 0-7:\n1 | odgovor = min 8 7 * 6\n    ^^^^^^^\nError: Unbound value odgovor\n"
          ]
        }
      ],
      "source": [
        "odgovor = min 8 7 * 6"
      ]
    },
    {
      "cell_type": "code",
      "execution_count": null,
      "metadata": {
        "vscode": {
          "languageId": "ocaml"
        }
      },
      "outputs": [],
      "source": [
        "let se_en_odgovor = odgovor + 1"
      ]
    },
    {
      "cell_type": "code",
      "execution_count": null,
      "metadata": {
        "vscode": {
          "languageId": "ocaml"
        }
      },
      "outputs": [],
      "source": [
        "let odgovor =\n",
        "  let prvi_delni_izracun = min 8 7 in\n",
        "  let drugi_delni_izracun = max 6 5 in\n",
        "  prvi_delni_izracun * drugi_delni_izracun"
      ]
    },
    {
      "cell_type": "code",
      "execution_count": null,
      "metadata": {
        "vscode": {
          "languageId": "ocaml"
        }
      },
      "outputs": [],
      "source": [
        "prvi_delni_izracun"
      ]
    },
    {
      "cell_type": "markdown",
      "metadata": {},
      "source": [
        "### Definicije funkcij"
      ]
    },
    {
      "cell_type": "code",
      "execution_count": null,
      "metadata": {
        "vscode": {
          "languageId": "ocaml"
        }
      },
      "outputs": [],
      "source": [
        "let kvadriraj x = x * x"
      ]
    },
    {
      "cell_type": "code",
      "execution_count": null,
      "metadata": {
        "vscode": {
          "languageId": "ocaml"
        }
      },
      "outputs": [],
      "source": [
        "kvadriraj 5"
      ]
    },
    {
      "cell_type": "code",
      "execution_count": null,
      "metadata": {
        "vscode": {
          "languageId": "ocaml"
        }
      },
      "outputs": [],
      "source": [
        "let obseg_pravokotnika a b =\n",
        "  2 * (a + b)"
      ]
    },
    {
      "cell_type": "code",
      "execution_count": null,
      "metadata": {
        "vscode": {
          "languageId": "ocaml"
        }
      },
      "outputs": [],
      "source": [
        "let povrsina_kvadra a b c =\n",
        "  2 * (a * b + a * c + b * c)"
      ]
    },
    {
      "cell_type": "code",
      "execution_count": null,
      "metadata": {
        "vscode": {
          "languageId": "ocaml"
        }
      },
      "outputs": [],
      "source": [
        "let ( -- ) a b = max a b - min a b"
      ]
    },
    {
      "cell_type": "code",
      "execution_count": null,
      "metadata": {
        "vscode": {
          "languageId": "ocaml"
        }
      },
      "outputs": [],
      "source": [
        "let ( - ) a b = a * b"
      ]
    },
    {
      "cell_type": "code",
      "execution_count": null,
      "metadata": {
        "vscode": {
          "languageId": "ocaml"
        }
      },
      "outputs": [],
      "source": [
        "7 - 6"
      ]
    },
    {
      "cell_type": "code",
      "execution_count": null,
      "metadata": {
        "vscode": {
          "languageId": "ocaml"
        }
      },
      "outputs": [],
      "source": [
        "7 -- 6"
      ]
    },
    {
      "cell_type": "code",
      "execution_count": null,
      "metadata": {
        "vscode": {
          "languageId": "ocaml"
        }
      },
      "outputs": [],
      "source": [
        "let ( * )"
      ]
    },
    {
      "cell_type": "markdown",
      "metadata": {},
      "source": [
        "## Osnovni tipi"
      ]
    },
    {
      "cell_type": "markdown",
      "metadata": {},
      "source": [
        "### Cela števila `int`"
      ]
    },
    {
      "cell_type": "code",
      "execution_count": null,
      "metadata": {
        "vscode": {
          "languageId": "ocaml"
        }
      },
      "outputs": [],
      "source": [
        "1024 / 100"
      ]
    },
    {
      "cell_type": "code",
      "execution_count": null,
      "metadata": {
        "vscode": {
          "languageId": "ocaml"
        }
      },
      "outputs": [],
      "source": [
        "1024 mod 100"
      ]
    },
    {
      "cell_type": "code",
      "execution_count": null,
      "metadata": {
        "vscode": {
          "languageId": "ocaml"
        }
      },
      "outputs": [],
      "source": [
        "4611686018427387902 + 1"
      ]
    },
    {
      "cell_type": "markdown",
      "metadata": {},
      "source": [
        "### Števila s plavajočo vejico `float`"
      ]
    },
    {
      "cell_type": "code",
      "execution_count": null,
      "metadata": {
        "vscode": {
          "languageId": "ocaml"
        }
      },
      "outputs": [],
      "source": [
        "12.0 *. (34.0 +. 67.0) -. 89.0"
      ]
    },
    {
      "cell_type": "code",
      "execution_count": null,
      "metadata": {
        "tags": [
          "raises-exception"
        ],
        "vscode": {
          "languageId": "ocaml"
        }
      },
      "outputs": [],
      "source": [
        "float_of_int 2 *. 3.141592"
      ]
    },
    {
      "cell_type": "code",
      "execution_count": null,
      "metadata": {
        "vscode": {
          "languageId": "ocaml"
        }
      },
      "outputs": [],
      "source": [
        "float_of_int 10"
      ]
    },
    {
      "cell_type": "markdown",
      "metadata": {},
      "source": [
        "### Nizi `string`"
      ]
    },
    {
      "cell_type": "code",
      "execution_count": null,
      "metadata": {
        "vscode": {
          "languageId": "ocaml"
        }
      },
      "outputs": [],
      "source": [
        "let fun_prog = \"Funkcijsko \" ^ \"programiranje\""
      ]
    },
    {
      "cell_type": "code",
      "execution_count": null,
      "metadata": {
        "vscode": {
          "languageId": "ocaml"
        }
      },
      "outputs": [],
      "source": [
        "int_of_string \"dvainštirideset\""
      ]
    },
    {
      "cell_type": "code",
      "execution_count": null,
      "metadata": {
        "vscode": {
          "languageId": "ocaml"
        }
      },
      "outputs": [],
      "source": [
        "\"Uvod v \" ^ String.lowercase_ascii fun_prog"
      ]
    },
    {
      "cell_type": "markdown",
      "metadata": {},
      "source": [
        "### Logične vrednosti `bool`"
      ]
    },
    {
      "cell_type": "code",
      "execution_count": null,
      "metadata": {
        "vscode": {
          "languageId": "ocaml"
        }
      },
      "outputs": [],
      "source": [
        "3 <= 8 && 8 <= 6"
      ]
    },
    {
      "cell_type": "code",
      "execution_count": null,
      "metadata": {
        "vscode": {
          "languageId": "ocaml"
        }
      },
      "outputs": [],
      "source": [
        "let abs x =\n",
        "  if x < 0 then -x else x"
      ]
    },
    {
      "cell_type": "code",
      "execution_count": null,
      "metadata": {
        "vscode": {
          "languageId": "ocaml"
        }
      },
      "outputs": [],
      "source": [
        "(if 1 = 3 then pred else succ) 5 * 7"
      ]
    },
    {
      "cell_type": "code",
      "execution_count": null,
      "metadata": {
        "vscode": {
          "languageId": "ocaml"
        }
      },
      "outputs": [],
      "source": [
        "let niz = \"Abc\"\n",
        "\n",
        "let niz2 = \"Def\""
      ]
    },
    {
      "cell_type": "markdown",
      "metadata": {},
      "source": [
        "### Enotski tip `unit`"
      ]
    },
    {
      "cell_type": "code",
      "execution_count": null,
      "metadata": {
        "vscode": {
          "languageId": "ocaml"
        }
      },
      "outputs": [],
      "source": [
        "()"
      ]
    },
    {
      "cell_type": "code",
      "execution_count": null,
      "metadata": {
        "vscode": {
          "languageId": "ocaml"
        }
      },
      "outputs": [],
      "source": [
        "Random.bool ()"
      ]
    },
    {
      "cell_type": "code",
      "execution_count": null,
      "metadata": {
        "vscode": {
          "languageId": "ocaml"
        }
      },
      "outputs": [],
      "source": [
        "print_endline \"Hello, world!\""
      ]
    },
    {
      "cell_type": "code",
      "execution_count": null,
      "metadata": {
        "vscode": {
          "languageId": "ocaml"
        }
      },
      "outputs": [],
      "source": [
        "()"
      ]
    },
    {
      "cell_type": "markdown",
      "metadata": {},
      "source": [
        "### Znaki `char`"
      ]
    },
    {
      "cell_type": "code",
      "execution_count": null,
      "metadata": {
        "vscode": {
          "languageId": "ocaml"
        }
      },
      "outputs": [],
      "source": [
        "Char.code 'x'"
      ]
    },
    {
      "cell_type": "code",
      "execution_count": null,
      "metadata": {
        "vscode": {
          "languageId": "ocaml"
        }
      },
      "outputs": [],
      "source": [
        "Char.code 'y'"
      ]
    },
    {
      "cell_type": "code",
      "execution_count": null,
      "metadata": {
        "vscode": {
          "languageId": "ocaml"
        }
      },
      "outputs": [],
      "source": [
        "Char.chr 122"
      ]
    },
    {
      "cell_type": "markdown",
      "metadata": {
        "vscode": {
          "languageId": "ocaml"
        }
      },
      "source": [
        "### Primer: Cezarjeva šifra"
      ]
    },
    {
      "cell_type": "markdown",
      "metadata": {},
      "source": [
        "    ABCDEFGHIJKLMNOPQRSTUVWXYZ    VENI, VIDI, VICI\n",
        "    KLMNOPQRSTUVWXYZABCDEFGHIJ    FOXS, FSNS, FSMS"
      ]
    },
    {
      "cell_type": "code",
      "execution_count": null,
      "metadata": {
        "vscode": {
          "languageId": "ocaml"
        }
      },
      "outputs": [],
      "source": [
        "let cezarjeva_sifra zamik znak =\n",
        "  if 'A' <= znak && znak <= 'Z' then\n",
        "    let mesto_znaka = Char.code znak - Char.code 'A' in\n",
        "    let novo_mesto = (mesto_znaka + zamik) mod 26 in\n",
        "    Char.chr (Char.code 'A' + novo_mesto)\n",
        "  else\n",
        "    znak"
      ]
    },
    {
      "cell_type": "code",
      "execution_count": null,
      "metadata": {
        "vscode": {
          "languageId": "ocaml"
        }
      },
      "outputs": [],
      "source": [
        "cezarjeva_sifra 3 'A'"
      ]
    },
    {
      "cell_type": "code",
      "execution_count": null,
      "metadata": {
        "vscode": {
          "languageId": "ocaml"
        }
      },
      "outputs": [],
      "source": [
        "let zasifriraj zamik niz =\n",
        "  let pomozna_funkcija znak = cezarjeva_sifra zamik znak in\n",
        "  String.map pomozna_funkcija niz"
      ]
    },
    {
      "cell_type": "code",
      "execution_count": null,
      "metadata": {
        "vscode": {
          "languageId": "ocaml"
        }
      },
      "outputs": [],
      "source": [
        "zasifriraj 10 \"VENI, VIDI, VICI!\""
      ]
    },
    {
      "cell_type": "markdown",
      "metadata": {},
      "source": [
        "## Funkcije"
      ]
    },
    {
      "cell_type": "markdown",
      "metadata": {},
      "source": [
        "### Funkcijski tipi"
      ]
    },
    {
      "cell_type": "code",
      "execution_count": null,
      "metadata": {
        "vscode": {
          "languageId": "ocaml"
        }
      },
      "outputs": [],
      "source": [
        "let f x = x * x"
      ]
    },
    {
      "cell_type": "code",
      "execution_count": null,
      "metadata": {
        "vscode": {
          "languageId": "ocaml"
        }
      },
      "outputs": [],
      "source": [
        "float_of_int"
      ]
    },
    {
      "cell_type": "code",
      "execution_count": null,
      "metadata": {
        "vscode": {
          "languageId": "ocaml"
        }
      },
      "outputs": [],
      "source": [
        "int_of_float"
      ]
    },
    {
      "cell_type": "code",
      "execution_count": null,
      "metadata": {
        "vscode": {
          "languageId": "ocaml"
        }
      },
      "outputs": [],
      "source": [
        "String.length"
      ]
    },
    {
      "cell_type": "code",
      "execution_count": null,
      "metadata": {
        "vscode": {
          "languageId": "ocaml"
        }
      },
      "outputs": [],
      "source": [
        "print_endline"
      ]
    },
    {
      "cell_type": "markdown",
      "metadata": {},
      "source": [
        "### Funkcije več argumentov"
      ]
    },
    {
      "cell_type": "code",
      "execution_count": null,
      "metadata": {
        "vscode": {
          "languageId": "ocaml"
        }
      },
      "outputs": [],
      "source": [
        "let zmnozi x y = x * y"
      ]
    },
    {
      "cell_type": "code",
      "execution_count": null,
      "metadata": {
        "vscode": {
          "languageId": "ocaml"
        }
      },
      "outputs": [],
      "source": [
        "String.cat"
      ]
    },
    {
      "cell_type": "code",
      "execution_count": null,
      "metadata": {
        "vscode": {
          "languageId": "ocaml"
        }
      },
      "outputs": [],
      "source": [
        "cezarjeva_sifra"
      ]
    },
    {
      "cell_type": "code",
      "execution_count": null,
      "metadata": {
        "vscode": {
          "languageId": "ocaml"
        }
      },
      "outputs": [],
      "source": [
        "zasifriraj"
      ]
    },
    {
      "cell_type": "markdown",
      "metadata": {},
      "source": [
        "### Delna uporaba"
      ]
    },
    {
      "cell_type": "code",
      "execution_count": null,
      "metadata": {
        "vscode": {
          "languageId": "ocaml"
        }
      },
      "outputs": [],
      "source": [
        "let rot13 = zasifriraj 13"
      ]
    },
    {
      "cell_type": "code",
      "execution_count": null,
      "metadata": {
        "vscode": {
          "languageId": "ocaml"
        }
      },
      "outputs": [],
      "source": [
        "rot13 \"VENI, VIDI, VICI\""
      ]
    },
    {
      "cell_type": "code",
      "execution_count": null,
      "metadata": {
        "vscode": {
          "languageId": "ocaml"
        }
      },
      "outputs": [],
      "source": [
        "rot13 \"IRAV, IVQV, IVPV\""
      ]
    },
    {
      "cell_type": "markdown",
      "metadata": {},
      "source": [
        "![Curry](https://pantheon.world/images/profile/people/42182.jpg)\n",
        "\n",
        "[Haskell Brooks Curry](https://en.wikipedia.org/wiki/Haskell_Curry), * 1900, Millis † 1982, State College"
      ]
    },
    {
      "cell_type": "code",
      "execution_count": null,
      "metadata": {
        "vscode": {
          "languageId": "ocaml"
        }
      },
      "outputs": [],
      "source": [
        "let zmnozi x y = x * y"
      ]
    },
    {
      "cell_type": "code",
      "execution_count": null,
      "metadata": {
        "vscode": {
          "languageId": "ocaml"
        }
      },
      "outputs": [],
      "source": [
        "let skrivnostna_funkcija = zmnozi 3"
      ]
    },
    {
      "cell_type": "code",
      "execution_count": null,
      "metadata": {
        "vscode": {
          "languageId": "ocaml"
        }
      },
      "outputs": [],
      "source": [
        "let g f = 2 * f 5"
      ]
    },
    {
      "cell_type": "code",
      "execution_count": null,
      "metadata": {
        "vscode": {
          "languageId": "ocaml"
        }
      },
      "outputs": [],
      "source": [
        "let zasifriraj zamik niz =\n",
        "  let pomozna znak = cezarjeva_sifra zamik znak in\n",
        "  String.map pomozna niz"
      ]
    },
    {
      "cell_type": "code",
      "execution_count": null,
      "metadata": {
        "vscode": {
          "languageId": "ocaml"
        }
      },
      "outputs": [],
      "source": [
        "let zasifriraj zamik niz =\n",
        "  let pomozna = cezarjeva_sifra zamik in\n",
        "  String.map pomozna niz"
      ]
    },
    {
      "cell_type": "code",
      "execution_count": null,
      "metadata": {
        "vscode": {
          "languageId": "ocaml"
        }
      },
      "outputs": [],
      "source": [
        "let zasifriraj zamik niz =\n",
        "  String.map (cezarjeva_sifra zamik) niz"
      ]
    },
    {
      "cell_type": "code",
      "execution_count": null,
      "metadata": {
        "vscode": {
          "languageId": "ocaml"
        }
      },
      "outputs": [],
      "source": [
        "let zasifriraj zamik =\n",
        "  String.map (cezarjeva_sifra zamik)"
      ]
    },
    {
      "cell_type": "code",
      "execution_count": null,
      "metadata": {
        "vscode": {
          "languageId": "ocaml"
        }
      },
      "outputs": [],
      "source": [
        "String.map"
      ]
    },
    {
      "cell_type": "markdown",
      "metadata": {},
      "source": [
        "### Funkcije višjega reda"
      ]
    },
    {
      "cell_type": "code",
      "execution_count": null,
      "metadata": {
        "vscode": {
          "languageId": "ocaml"
        }
      },
      "outputs": [],
      "source": [
        "let je_samoglasnik znak =\n",
        "  String.contains \"aeiou\" (Char.lowercase_ascii znak)"
      ]
    },
    {
      "cell_type": "code",
      "execution_count": null,
      "metadata": {
        "vscode": {
          "languageId": "ocaml"
        }
      },
      "outputs": [],
      "source": [
        "je_samoglasnik 'A'"
      ]
    },
    {
      "cell_type": "code",
      "execution_count": null,
      "metadata": {
        "vscode": {
          "languageId": "ocaml"
        }
      },
      "outputs": [],
      "source": [
        "let vsebuje_samoglasnik niz =\n",
        "  String.exists je_samoglasnik niz"
      ]
    },
    {
      "cell_type": "code",
      "execution_count": null,
      "metadata": {
        "vscode": {
          "languageId": "ocaml"
        }
      },
      "outputs": [],
      "source": [
        "vsebuje_samoglasnik \"čmrlj\""
      ]
    },
    {
      "cell_type": "code",
      "execution_count": null,
      "metadata": {
        "vscode": {
          "languageId": "ocaml"
        }
      },
      "outputs": [],
      "source": [
        "String.exists"
      ]
    },
    {
      "cell_type": "markdown",
      "metadata": {},
      "source": [
        "### Anonimne funkcije"
      ]
    },
    {
      "cell_type": "code",
      "execution_count": null,
      "metadata": {
        "vscode": {
          "languageId": "ocaml"
        }
      },
      "outputs": [],
      "source": [
        "let zrcali niz =\n",
        "  let n = String.length niz in\n",
        "  let znak_na_zrcalnem_mestu i = String.get niz (n - i - 1) in\n",
        "  String.init n znak_na_zrcalnem_mestu"
      ]
    },
    {
      "cell_type": "code",
      "execution_count": null,
      "metadata": {
        "vscode": {
          "languageId": "ocaml"
        }
      },
      "outputs": [],
      "source": [
        "zrcali \"perica reze raci rep\""
      ]
    },
    {
      "cell_type": "code",
      "execution_count": null,
      "metadata": {
        "vscode": {
          "languageId": "ocaml"
        }
      },
      "outputs": [],
      "source": [
        "let posmehljivo niz =\n",
        "  ..."
      ]
    },
    {
      "cell_type": "code",
      "execution_count": null,
      "metadata": {
        "vscode": {
          "languageId": "ocaml"
        }
      },
      "outputs": [],
      "source": [
        "posmehljivo \"Ja, funkcijsko programiranje je res najboljše!\""
      ]
    },
    {
      "cell_type": "code",
      "execution_count": null,
      "metadata": {
        "vscode": {
          "languageId": "ocaml"
        }
      },
      "outputs": [],
      "source": [
        "posmehljivo \"Anonimne funkcije mi prihranijo toliko truda pri poimenovanju.\""
      ]
    },
    {
      "cell_type": "code",
      "execution_count": null,
      "metadata": {
        "vscode": {
          "languageId": "ocaml"
        }
      },
      "outputs": [],
      "source": [
        "posmehljivo \"Delna uporaba definicije naredi sploh zelo pregledne.\""
      ]
    },
    {
      "cell_type": "markdown",
      "metadata": {},
      "source": [
        "## Sestavljeni tipi"
      ]
    },
    {
      "cell_type": "markdown",
      "metadata": {},
      "source": [
        "### Seznami"
      ]
    },
    {
      "cell_type": "code",
      "execution_count": null,
      "metadata": {
        "vscode": {
          "languageId": "ocaml"
        }
      },
      "outputs": [],
      "source": [
        "[[1; 2; 3]; [4; 5; 6]; [7; 8; 9]]"
      ]
    },
    {
      "cell_type": "code",
      "execution_count": null,
      "metadata": {
        "vscode": {
          "languageId": "ocaml"
        }
      },
      "outputs": [],
      "source": [
        "\"a\" :: \"b\" :: [\"c\"; \"d\"]"
      ]
    },
    {
      "cell_type": "code",
      "execution_count": null,
      "metadata": {
        "vscode": {
          "languageId": "ocaml"
        }
      },
      "outputs": [],
      "source": [
        "[1; 2; 3] @ [4; 5; 6]"
      ]
    },
    {
      "cell_type": "code",
      "execution_count": null,
      "metadata": {
        "vscode": {
          "languageId": "ocaml"
        }
      },
      "outputs": [],
      "source": [
        "String.split_on_char ' ' \"Uvod v funkcijsko programiranje\""
      ]
    },
    {
      "cell_type": "code",
      "execution_count": null,
      "metadata": {
        "vscode": {
          "languageId": "ocaml"
        }
      },
      "outputs": [],
      "source": [
        "String.split_on_char"
      ]
    },
    {
      "cell_type": "code",
      "execution_count": null,
      "metadata": {
        "vscode": {
          "languageId": "ocaml"
        }
      },
      "outputs": [],
      "source": [
        "List.map String.length [\"Uvod\"; \"v\"; \"funkcijsko\"; \"programiranje\"]"
      ]
    },
    {
      "cell_type": "code",
      "execution_count": null,
      "metadata": {
        "vscode": {
          "languageId": "ocaml"
        }
      },
      "outputs": [],
      "source": [
        "let manjsi_od_pet x = x < 5 in\n",
        "List.map manjsi_od_pet [3; 1; 4; 1; 5; 9; 2; 6; 5; 3; 5; 9]"
      ]
    },
    {
      "cell_type": "code",
      "execution_count": null,
      "metadata": {
        "vscode": {
          "languageId": "ocaml"
        }
      },
      "outputs": [],
      "source": [
        "List.filter (fun x -> x < 5) [3; 1; 4; 1; 5; 9; 2; 6; 5; 3; 5; 9]"
      ]
    },
    {
      "cell_type": "code",
      "execution_count": null,
      "metadata": {
        "vscode": {
          "languageId": "ocaml"
        }
      },
      "outputs": [],
      "source": [
        "List.flatten [[1; 2; 3]; [4; 5; 6]; [7; 8; 9]]"
      ]
    },
    {
      "cell_type": "markdown",
      "metadata": {
        "vscode": {
          "languageId": "ocaml"
        }
      },
      "source": [
        "Za vajo lahko preverite, kateri izmed spodnjih seznamov so veljavni:\n",
        "\n",
        "<details>\n",
        "    <summary><code>[1; 2] :: [3; 4]</code></summary>\n",
        "    NE\n",
        "</details>\n",
        "<details>\n",
        "    <summary><code>1 :: 2 :: 3 :: []</code></summary>\n",
        "    DA\n",
        "</details>\n",
        "<details>\n",
        "    <summary><code>[1; 2] @ [3; 4]</code></summary>\n",
        "    DA\n",
        "</details>\n",
        "<details>\n",
        "    <summary><code>1 @ 2 @ [3]</code></summary>\n",
        "    NE\n",
        "</details>\n",
        "<details>\n",
        "    <summary><code>[1, 2] @ [3]</code></summary>\n",
        "    NE\n",
        "</details>\n",
        "<details>\n",
        "    <summary><code>1 :: 2 :: 3</code></summary>\n",
        "    NE\n",
        "</details>\n",
        "<details>\n",
        "    <summary><code>[1; 2] @ []</code></summary>\n",
        "    DA\n",
        "</details>\n",
        "<details>\n",
        "    <summary><code>[1; 2] :: []</code></summary>\n",
        "    DA, presenetljivo je tudi to veljaven seznam in sicer <code>[[1; 2]]</code>.\n",
        "</details>"
      ]
    },
    {
      "cell_type": "markdown",
      "metadata": {},
      "source": [
        "### Nabori"
      ]
    },
    {
      "cell_type": "code",
      "execution_count": null,
      "metadata": {
        "vscode": {
          "languageId": "ocaml"
        }
      },
      "outputs": [],
      "source": [
        "(25, \"junij\", 1991, true)"
      ]
    },
    {
      "cell_type": "code",
      "execution_count": null,
      "metadata": {
        "vscode": {
          "languageId": "ocaml"
        }
      },
      "outputs": [],
      "source": [
        "List.partition (fun x -> x < 5) [3; 1; 4; 1; 5; 9; 2; 6; 5; 3; 5; 9]"
      ]
    },
    {
      "cell_type": "code",
      "execution_count": null,
      "metadata": {
        "vscode": {
          "languageId": "ocaml"
        }
      },
      "outputs": [],
      "source": [
        "[1, 2, 3, 4; 5, 6, 7, 8]"
      ]
    },
    {
      "cell_type": "markdown",
      "metadata": {},
      "source": [
        "### Razstavljanje z vzorci"
      ]
    },
    {
      "cell_type": "code",
      "execution_count": null,
      "metadata": {
        "vscode": {
          "languageId": "ocaml"
        }
      },
      "outputs": [],
      "source": [
        "let raztegni faktor (x, y) =\n",
        "  (faktor *. x, faktor *. y)"
      ]
    },
    {
      "cell_type": "markdown",
      "metadata": {},
      "source": [
        "### Delne vrednosti `τ option`"
      ]
    },
    {
      "cell_type": "code",
      "execution_count": null,
      "metadata": {
        "vscode": {
          "languageId": "ocaml"
        }
      },
      "outputs": [],
      "source": [
        "int_of_string_opt \"100\""
      ]
    },
    {
      "cell_type": "code",
      "execution_count": null,
      "metadata": {
        "vscode": {
          "languageId": "ocaml"
        }
      },
      "outputs": [],
      "source": [
        "List.filter_map int_of_string_opt [\"100\"; \"sto\"; \"123\"; \"tisoč\"]"
      ]
    },
    {
      "cell_type": "markdown",
      "metadata": {},
      "source": [
        "## Polimorfizem"
      ]
    },
    {
      "cell_type": "code",
      "execution_count": null,
      "metadata": {
        "vscode": {
          "languageId": "ocaml"
        }
      },
      "outputs": [],
      "source": [
        "[1;2;3] @ [4;5]"
      ]
    },
    {
      "cell_type": "code",
      "execution_count": null,
      "metadata": {
        "vscode": {
          "languageId": "ocaml"
        }
      },
      "outputs": [],
      "source": [
        "[true] @ [false; true]"
      ]
    },
    {
      "cell_type": "code",
      "execution_count": null,
      "metadata": {
        "vscode": {
          "languageId": "ocaml"
        }
      },
      "outputs": [],
      "source": [
        "( @ )"
      ]
    },
    {
      "cell_type": "markdown",
      "metadata": {},
      "source": [
        "### Parametrično polimorfne vrednosti"
      ]
    },
    {
      "cell_type": "code",
      "execution_count": null,
      "metadata": {
        "vscode": {
          "languageId": "ocaml"
        }
      },
      "outputs": [],
      "source": [
        "List.flatten"
      ]
    },
    {
      "cell_type": "code",
      "execution_count": null,
      "metadata": {
        "vscode": {
          "languageId": "ocaml"
        }
      },
      "outputs": [],
      "source": [
        "List.filter"
      ]
    },
    {
      "cell_type": "code",
      "execution_count": null,
      "metadata": {
        "vscode": {
          "languageId": "ocaml"
        }
      },
      "outputs": [],
      "source": [
        "[]"
      ]
    },
    {
      "cell_type": "markdown",
      "metadata": {},
      "source": [
        "### Polimorfni tipi z več parametri"
      ]
    },
    {
      "cell_type": "code",
      "execution_count": null,
      "metadata": {
        "vscode": {
          "languageId": "ocaml"
        }
      },
      "outputs": [],
      "source": [
        "snd"
      ]
    },
    {
      "cell_type": "code",
      "execution_count": null,
      "metadata": {
        "vscode": {
          "languageId": "ocaml"
        }
      },
      "outputs": [],
      "source": [
        "List.map"
      ]
    },
    {
      "cell_type": "code",
      "execution_count": null,
      "metadata": {
        "vscode": {
          "languageId": "ocaml"
        }
      },
      "outputs": [],
      "source": [
        "List.filter_map"
      ]
    },
    {
      "cell_type": "code",
      "execution_count": null,
      "metadata": {
        "vscode": {
          "languageId": "ocaml"
        }
      },
      "outputs": [],
      "source": [
        "List.combine"
      ]
    },
    {
      "cell_type": "markdown",
      "metadata": {},
      "source": [
        "### Primer: veriženje"
      ]
    },
    {
      "cell_type": "code",
      "execution_count": null,
      "metadata": {
        "vscode": {
          "languageId": "ocaml"
        }
      },
      "outputs": [],
      "source": [
        "10 |> succ |> kvadriraj |> pred"
      ]
    },
    {
      "cell_type": "code",
      "execution_count": null,
      "metadata": {
        "vscode": {
          "languageId": "ocaml"
        }
      },
      "outputs": [],
      "source": [
        "let ( |> ) x f = f x\n",
        "let ( @@ ) f x = f x"
      ]
    },
    {
      "cell_type": "markdown",
      "metadata": {},
      "source": [
        "    1000,Ljubljana        [[1000];\n",
        "    sto,100          ~>    [100];\n",
        "    1,a,2,b,3              [1; 2; 3]]"
      ]
    },
    {
      "cell_type": "code",
      "execution_count": null,
      "metadata": {
        "vscode": {
          "languageId": "ocaml"
        }
      },
      "outputs": [],
      "source": [
        "let stevila_v_vrstici vrstica =\n",
        "  vrstica\n",
        "  |> String.split_on_char ','\n",
        "  |> List.filter_map int_of_string_opt"
      ]
    },
    {
      "cell_type": "code",
      "execution_count": null,
      "metadata": {
        "vscode": {
          "languageId": "ocaml"
        }
      },
      "outputs": [],
      "source": [
        "stevila_v_vrstici \"1,2,3,4,5,šest,7\""
      ]
    },
    {
      "cell_type": "code",
      "execution_count": null,
      "metadata": {
        "vscode": {
          "languageId": "ocaml"
        }
      },
      "outputs": [],
      "source": [
        "let stevila_v_besedilu besedilo =\n",
        "  besedilo |> String.split_on_char '\\n' |> List.map stevila_v_vrstici"
      ]
    },
    {
      "cell_type": "markdown",
      "metadata": {},
      "source": [
        "## Curryrane funkcije"
      ]
    },
    {
      "cell_type": "code",
      "execution_count": null,
      "metadata": {
        "vscode": {
          "languageId": "ocaml"
        }
      },
      "outputs": [],
      "source": [
        "let zmnozi x y = x * y\n",
        "let zmnozi' (x, y) = x * y"
      ]
    },
    {
      "cell_type": "code",
      "execution_count": null,
      "metadata": {
        "vscode": {
          "languageId": "ocaml"
        }
      },
      "outputs": [],
      "source": [
        "zmnozi 6 7"
      ]
    },
    {
      "cell_type": "code",
      "execution_count": null,
      "metadata": {
        "vscode": {
          "languageId": "ocaml"
        }
      },
      "outputs": [],
      "source": [
        "zmnozi' (6, 7)"
      ]
    },
    {
      "cell_type": "code",
      "execution_count": null,
      "metadata": {
        "vscode": {
          "languageId": "ocaml"
        }
      },
      "outputs": [],
      "source": [
        "zmnozi 6"
      ]
    },
    {
      "cell_type": "code",
      "execution_count": null,
      "metadata": {
        "vscode": {
          "languageId": "ocaml"
        }
      },
      "outputs": [],
      "source": [
        "zmnozi' 6"
      ]
    },
    {
      "cell_type": "code",
      "execution_count": null,
      "metadata": {
        "vscode": {
          "languageId": "ocaml"
        }
      },
      "outputs": [],
      "source": [
        "List.map (zmnozi 6) [1; 2; 3; 4; 5; 6; 7]"
      ]
    },
    {
      "cell_type": "code",
      "execution_count": null,
      "metadata": {
        "vscode": {
          "languageId": "ocaml"
        }
      },
      "outputs": [],
      "source": [
        "let curry f =\n",
        "  fun a b -> f (a, b)\n",
        "  "
      ]
    },
    {
      "cell_type": "code",
      "execution_count": null,
      "metadata": {
        "vscode": {
          "languageId": "ocaml"
        }
      },
      "outputs": [],
      "source": [
        "let uncurry f =\n",
        "  fun (a, b) -> f a b\n",
        "  "
      ]
    },
    {
      "cell_type": "code",
      "execution_count": null,
      "metadata": {
        "vscode": {
          "languageId": "ocaml"
        }
      },
      "outputs": [],
      "source": [
        "List.map (curry zmnozi' 6) [1; 2; 3; 4; 5; 6; 7]"
      ]
    },
    {
      "cell_type": "code",
      "execution_count": null,
      "metadata": {
        "vscode": {
          "languageId": "ocaml"
        }
      },
      "outputs": [],
      "source": [
        "let uncurry g = ..."
      ]
    },
    {
      "cell_type": "code",
      "execution_count": null,
      "metadata": {
        "vscode": {
          "languageId": "ocaml"
        }
      },
      "outputs": [],
      "source": [
        "(uncurry zmnozi) (6, 7)"
      ]
    },
    {
      "cell_type": "markdown",
      "metadata": {},
      "source": [
        "## Vaje"
      ]
    },
    {
      "cell_type": "markdown",
      "metadata": {},
      "source": [
        "### Vektorji"
      ]
    },
    {
      "cell_type": "markdown",
      "metadata": {
        "vscode": {
          "languageId": "ocaml"
        }
      },
      "source": [
        "1. Napišite funkcijo `razteg : float -> float list -> float list`, ki vektor, predstavljen s seznamom števil s plavajočo vejico, pomnoži z danim skalarjem."
      ]
    },
    {
      "cell_type": "code",
      "execution_count": null,
      "metadata": {
        "tags": [
          "remove-cell",
          "remove-stdout"
        ],
        "vscode": {
          "languageId": "ocaml"
        }
      },
      "outputs": [],
      "source": [
        "let razteg k = List.map (( *. ) k)"
      ]
    },
    {
      "cell_type": "code",
      "execution_count": null,
      "metadata": {
        "vscode": {
          "languageId": "ocaml"
        }
      },
      "outputs": [],
      "source": [
        "razteg 2.0 [1.0; 2.0; 3.0]"
      ]
    },
    {
      "cell_type": "markdown",
      "metadata": {},
      "source": [
        "2. Napišite funkcijo `sestej : float list -> float list -> float list`, ki vrne vsoto dveh vektorjev."
      ]
    },
    {
      "cell_type": "code",
      "execution_count": null,
      "metadata": {
        "tags": [
          "remove-cell",
          "remove-stdout"
        ],
        "vscode": {
          "languageId": "ocaml"
        }
      },
      "outputs": [],
      "source": [
        "let sestej v1 v2 = List.map2 (+.) v1 v2"
      ]
    },
    {
      "cell_type": "code",
      "execution_count": null,
      "metadata": {
        "vscode": {
          "languageId": "ocaml"
        }
      },
      "outputs": [],
      "source": [
        "sestej [1.0; 2.0; 3.0] [4.0; 5.0; 6.0]"
      ]
    },
    {
      "cell_type": "markdown",
      "metadata": {},
      "source": [
        "3. Napišite funkcijo `skalarni_produkt : float list -> float list -> float`, ki izračuna skalarni produkt dveh vektorjev. Pri tem si lahko pomagate s funkcijo `vsota_seznama : float list -> float`, definirano prek funkcije `List.fold_left`, ki jo bomo spoznali kasneje:"
      ]
    },
    {
      "cell_type": "code",
      "execution_count": 15,
      "metadata": {
        "vscode": {
          "languageId": "ocaml"
        }
      },
      "outputs": [
        {
          "data": {
            "text/plain": [
              "val vsota_seznama : float list -> float = <fun>\n"
            ]
          },
          "execution_count": 15,
          "metadata": {},
          "output_type": "execute_result"
        }
      ],
      "source": [
        "let vsota_seznama = List.fold_left (+.) 0."
      ]
    },
    {
      "cell_type": "code",
      "execution_count": null,
      "metadata": {
        "tags": [
          "remove-cell",
          "remove-stdout"
        ],
        "vscode": {
          "languageId": "ocaml"
        }
      },
      "outputs": [],
      "source": [
        "let skalarni_produkt v1 v2 =\n",
        "  (* List.fold_left2 ( +. ) 0. v1 v2 *)\n",
        "  vsota_seznama @@ List.map2 ( *. ) v1 v2"
      ]
    },
    {
      "cell_type": "code",
      "execution_count": null,
      "metadata": {
        "vscode": {
          "languageId": "ocaml"
        }
      },
      "outputs": [],
      "source": [
        "\n",
        "skalarni_produkt [1.0; 2.0; 3.0] [4.0; 5.0; 6.0]"
      ]
    },
    {
      "cell_type": "markdown",
      "metadata": {},
      "source": [
        "4. Napišite funkcijo `norma : float list -> float`, ki vrne evklidsko normo vektorja."
      ]
    },
    {
      "cell_type": "code",
      "execution_count": null,
      "metadata": {
        "tags": [
          "remove-cell",
          "remove-stdout"
        ],
        "vscode": {
          "languageId": "ocaml"
        }
      },
      "outputs": [],
      "source": [
        "let norma v = sqrt (skalarni_produkt v v)"
      ]
    },
    {
      "cell_type": "code",
      "execution_count": null,
      "metadata": {
        "vscode": {
          "languageId": "ocaml"
        }
      },
      "outputs": [],
      "source": [
        "norma [3.0; 4.0]"
      ]
    },
    {
      "cell_type": "markdown",
      "metadata": {},
      "source": [
        "1. Napišite funkcijo `vmesni_kot : float list -> float list -> float`, ki izračuna kot med dvema vektorjema v radianih."
      ]
    },
    {
      "cell_type": "code",
      "execution_count": null,
      "metadata": {
        "tags": [
          "remove-cell",
          "remove-stdout"
        ],
        "vscode": {
          "languageId": "ocaml"
        }
      },
      "outputs": [],
      "source": [
        "let vmesni_kot v1 v2 =\n",
        "  acos (skalarni_produkt v1 v2 /. (norma v1 *. norma v2))"
      ]
    },
    {
      "cell_type": "code",
      "execution_count": null,
      "metadata": {
        "vscode": {
          "languageId": "ocaml"
        }
      },
      "outputs": [],
      "source": [
        "vmesni_kot [1.0; 0.0] [0.0; 1.0]"
      ]
    },
    {
      "cell_type": "markdown",
      "metadata": {},
      "source": [
        "6. Napišite funkcijo `normirani : float list -> float list`, ki normira dani vektor."
      ]
    },
    {
      "cell_type": "code",
      "execution_count": null,
      "metadata": {
        "tags": [
          "remove-cell",
          "remove-stdout"
        ],
        "vscode": {
          "languageId": "ocaml"
        }
      },
      "outputs": [],
      "source": [
        "let normirani v = razteg (1.0 /. norma v) v"
      ]
    },
    {
      "cell_type": "code",
      "execution_count": null,
      "metadata": {
        "vscode": {
          "languageId": "ocaml"
        }
      },
      "outputs": [],
      "source": [
        "normirani [3.0; 4.0]"
      ]
    },
    {
      "cell_type": "markdown",
      "metadata": {},
      "source": [
        "7. Napišite funkcijo `projeciraj : float list -> float list -> float list`, ki izračuna projekcijo prvega vektorja na drugega.\n"
      ]
    },
    {
      "cell_type": "code",
      "execution_count": null,
      "metadata": {
        "tags": [
          "remove-cell",
          "remove-stdout"
        ],
        "vscode": {
          "languageId": "ocaml"
        }
      },
      "outputs": [],
      "source": [
        "let projekcija v1 v2 =\n",
        "  razteg (skalarni_produkt v1 v2) (normirani v2)"
      ]
    },
    {
      "cell_type": "code",
      "execution_count": null,
      "metadata": {
        "vscode": {
          "languageId": "ocaml"
        }
      },
      "outputs": [],
      "source": [
        "projekcija [3.0; 4.0] [1.0; 0.0]"
      ]
    },
    {
      "cell_type": "markdown",
      "metadata": {},
      "source": [
        "### Generiranje HTML-ja"
      ]
    },
    {
      "cell_type": "markdown",
      "metadata": {},
      "source": [
        "1. Napišite funkcijo `ovij : string -> string -> string`, ki sprejme ime HTML oznake in vsebino ter vrne niz, ki predstavlja ustrezno HTML oznako."
      ]
    },
    {
      "cell_type": "code",
      "execution_count": null,
      "metadata": {
        "tags": [
          "remove-cell",
          "remove-stdout"
        ],
        "vscode": {
          "languageId": "ocaml"
        }
      },
      "outputs": [],
      "source": [
        "let ovij oznaka vsebina =\n",
        "  (* Printf.sprintf \"<%s>%s</%s>\" oznaka vsebina oznaka *)\n",
        "  \"<\" ^ oznaka ^ \">\" ^ vsebina ^ \"</\" ^ oznaka ^ \">\""
      ]
    },
    {
      "cell_type": "code",
      "execution_count": null,
      "metadata": {
        "vscode": {
          "languageId": "ocaml"
        }
      },
      "outputs": [],
      "source": [
        "ovij \"h1\" \"Hello, world!\""
      ]
    },
    {
      "cell_type": "markdown",
      "metadata": {},
      "source": [
        "2. Napišite funkcijo `zamakni : int -> string -> string`, ki sprejme število presledkov in niz ter vrne niz, v katerem je vsaka vrstica zamaknjena za ustrezno število presledkov."
      ]
    },
    {
      "cell_type": "code",
      "execution_count": null,
      "metadata": {
        "tags": [
          "remove-cell",
          "remove-stdout"
        ],
        "vscode": {
          "languageId": "ocaml"
        }
      },
      "outputs": [],
      "source": [
        "let zamakni n vsebina =\n",
        "  let presledki = String.make n ' ' in\n",
        "  vsebina\n",
        "  |> String.split_on_char '\\n'\n",
        "  |> List.map (String.cat presledki)\n",
        "  |> String.concat \"\\n\""
      ]
    },
    {
      "cell_type": "code",
      "execution_count": null,
      "metadata": {
        "vscode": {
          "languageId": "ocaml"
        }
      },
      "outputs": [],
      "source": [
        "zamakni 4 \"Hello,\\nworld!\""
      ]
    },
    {
      "cell_type": "markdown",
      "metadata": {},
      "source": [
        "3. Napišite funkcijo `ul : string list -> string`, ki sprejme seznam nizov in vrne niz, ki predstavlja ustrezno zamaknjen neurejeni seznam v HTML-ju:\n"
      ]
    },
    {
      "cell_type": "code",
      "execution_count": null,
      "metadata": {
        "tags": [
          "remove-cell",
          "remove-stdout"
        ],
        "vscode": {
          "languageId": "ocaml"
        }
      },
      "outputs": [],
      "source": [
        "let ul items =\n",
        "  items\n",
        "  |> List.map (ovij \"li\")\n",
        "  |> String.concat \"\\n\"\n",
        "  |> zamakni 2\n",
        "  |> (fun content -> \"\\n\" ^ content ^ \"\\n\")\n",
        "  |> ovij \"ul\""
      ]
    },
    {
      "cell_type": "code",
      "execution_count": null,
      "metadata": {
        "vscode": {
          "languageId": "ocaml"
        }
      },
      "outputs": [],
      "source": [
        "print_endline @@ ul [\"ananas\"; \"banana\"; \"čokolada\"]"
      ]
    },
    {
      "cell_type": "markdown",
      "metadata": {},
      "source": [
        "### Nakupovalni seznam"
      ]
    },
    {
      "cell_type": "markdown",
      "metadata": {},
      "source": [
        "1.\tNapišite funkcijo `razdeli_vrstico : string -> string * string`, ki sprejme niz, ki vsebuje vejico, loči na del pred in del za njo."
      ]
    },
    {
      "cell_type": "code",
      "execution_count": null,
      "metadata": {
        "tags": [
          "remove-cell",
          "remove-stdout"
        ],
        "vscode": {
          "languageId": "ocaml"
        }
      },
      "outputs": [],
      "source": [
        "let razdeli_vrstico vrstica =\n",
        "  let indeks = String.index vrstica ',' in\n",
        "  let prvi = String.sub vrstica 0 indeks\n",
        "  and drugi = String.sub vrstica (indeks + 1) (String.length vrstica - indeks - 1) in\n",
        "  (String.trim prvi, String.trim drugi)"
      ]
    },
    {
      "cell_type": "code",
      "execution_count": null,
      "metadata": {
        "vscode": {
          "languageId": "ocaml"
        }
      },
      "outputs": [],
      "source": [
        "razdeli_vrstico \"mleko, 2\""
      ]
    },
    {
      "cell_type": "markdown",
      "metadata": {},
      "source": [
        "\n",
        "2.\tNapišite funkcijo `pretvori_v_seznam_parov : string -> (string * string) list`, ki sprejme večvrstični niz, kjer je vsaka vrstica niz oblike `\"izdelek, vrednost\"`, in vrne seznam ustreznih parov.\n"
      ]
    },
    {
      "cell_type": "code",
      "execution_count": null,
      "metadata": {
        "tags": [
          "remove-cell",
          "remove-stdout"
        ],
        "vscode": {
          "languageId": "ocaml"
        }
      },
      "outputs": [],
      "source": [
        "let pretvori_v_seznam_parov niz =\n",
        "  niz\n",
        "  |> String.trim\n",
        "  |> String.split_on_char '\\n'\n",
        "  |> List.map razdeli_vrstico"
      ]
    },
    {
      "cell_type": "code",
      "execution_count": null,
      "metadata": {
        "vscode": {
          "languageId": "ocaml"
        }
      },
      "outputs": [],
      "source": [
        "pretvori_v_seznam_parov \"mleko, 2\\nkruh, 1\\njabolko, 5\""
      ]
    },
    {
      "cell_type": "markdown",
      "metadata": {},
      "source": [
        "\n",
        "3.\tNapišite funkcijo `pretvori_druge_komponente : ('a -> 'b) -> (string * 'a) list -> (string * 'b) list`, ki dano funkcijo uporabi na vseh drugih komponentah elementov seznama.\n"
      ]
    },
    {
      "cell_type": "code",
      "execution_count": null,
      "metadata": {
        "tags": [
          "remove-cell",
          "remove-stdout"
        ],
        "vscode": {
          "languageId": "ocaml"
        }
      },
      "outputs": [],
      "source": [
        "let pretvori_druge_komponente f =\n",
        "  List.map (fun (x, y) -> (x, f y))"
      ]
    },
    {
      "cell_type": "code",
      "execution_count": null,
      "metadata": {
        "vscode": {
          "languageId": "ocaml"
        }
      },
      "outputs": [],
      "source": [
        "let seznam = [(\"ata\", \"mama\"); (\"teta\", \"stric\")] in\n",
        "pretvori_druge_komponente String.length seznam"
      ]
    },
    {
      "cell_type": "markdown",
      "metadata": {},
      "source": [
        "\n",
        "4.\tNapišite funkcijo `izracunaj_skupni_znesek : string -> string -> float`, ki sprejme večvrstična niza nakupovalnega seznama in cenika in izračuna skupni znesek nakupa.\n"
      ]
    },
    {
      "cell_type": "code",
      "execution_count": null,
      "metadata": {
        "vscode": {
          "languageId": "ocaml"
        }
      },
      "outputs": [],
      "source": []
    },
    {
      "cell_type": "code",
      "execution_count": 16,
      "metadata": {
        "tags": [
          "remove-cell",
          "remove-stdout"
        ],
        "vscode": {
          "languageId": "ocaml"
        }
      },
      "outputs": [
        {
          "data": {
            "text/plain": [
              "val izracunaj_skupni_znesek : string -> string -> float = <fun>\n"
            ]
          },
          "execution_count": 16,
          "metadata": {},
          "output_type": "execute_result"
        }
      ],
      "source": [
        "let izracunaj_skupni_znesek cenik seznam =\n",
        "  let cenik =\n",
        "    cenik\n",
        "    |> pretvori_v_seznam_parov\n",
        "    |> pretvori_druge_komponente float_of_string\n",
        "  in\n",
        "  let cena_izdelka (izdelek, kolicina) =\n",
        "    let cena = List.assoc izdelek cenik in\n",
        "    float_of_int kolicina *. cena\n",
        "  in\n",
        "  seznam\n",
        "  |> pretvori_v_seznam_parov\n",
        "  |> pretvori_druge_komponente int_of_string\n",
        "  |> List.map cena_izdelka\n",
        "  |> vsota_seznama"
      ]
    },
    {
      "cell_type": "code",
      "execution_count": 17,
      "metadata": {
        "vscode": {
          "languageId": "ocaml"
        }
      },
      "outputs": [
        {
          "data": {
            "text/plain": [
              "- : float = 5.5\n"
            ]
          },
          "execution_count": 17,
          "metadata": {},
          "output_type": "execute_result"
        }
      ],
      "source": [
        "let nakupovalni_seznam = \"mleko, 2\\njabolka, 5\"\n",
        "and cenik = \"jabolka, 0.5\\nkruh, 2\\nmleko, 1.5\" in\n",
        "izracunaj_skupni_znesek cenik nakupovalni_seznam"
      ]
    }
  ],
  "metadata": {
    "kernelspec": {
      "display_name": "OCaml 4.14",
      "language": "OCaml",
      "name": "ocaml-jupyter"
    },
    "language_info": {
      "codemirror_mode": "text/x-ocaml",
      "file_extension": ".ml",
      "mimetype": "text/x-ocaml",
      "name": "OCaml",
      "nbconverter_exporter": null,
      "pygments_lexer": "OCaml",
      "version": "4.14.2"
    }
  },
  "nbformat": 4,
  "nbformat_minor": 2
}
